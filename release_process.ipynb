{ 
 "cells": [
  {
   "cell_type": "markdown",
   "metadata": {},
   "source": [
    "# Release Process Notebook for SouthOfTethys\n",
    "This notebook replicates the release workflow used for publishing the Python package."
   ]
  },
  {
   "cell_type": "code",
   "metadata": {},
   "source": [
    "# Check Python version\n",
    "python3 --version\n"
   ]
  },
  {
   "cell_type": "code",
   "metadata": {},
   "source": [
    "# Upgrade pip and install build tool\n",
    "python3 -m pip install --upgrade pip\n",
    "python3 -m pip install build\n"
   ]
  },
  {
   "cell_type": "code",
   "metadata": {},
   "source": [
    "# Build the release distributions\n",
    "python3 -m build\n"
   ]
  },
  {
   "cell_type": "code",
   "metadata": {},
   "source": [
    "# List the contents of the dist/ directory\n",
    "ls dist/\n"
   ]
  },
  {
   "cell_type": "code",
   "metadata": {},
   "source": [
    "# Install twine for uploading to PyPI\n",
    "python3 -m pip install twine\n"
   ]
  },
  {
   "cell_type": "code",
   "metadata": {},
   "source": [
    "# Upload distributions to PyPI\n",
    "# You will need your PyPI credentials, or you can set them using environment variables\n",
    "twine upload dist/*\n"
   ]
  }
 ],
 "metadata": {
  "kernelspec": {
   "display_name": "Python 3",
   "language": "python",
   "name": "python3"
  },
  "language_info": {
   "name": "python",
   "version": "3.x"
  }
 },
 "nbformat": 4,
 "nbformat_minor": 2
}